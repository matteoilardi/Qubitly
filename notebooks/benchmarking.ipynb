{
 "cells": [
  {
   "cell_type": "markdown",
   "id": "ffb73d82-8fbc-4c8a-8e52-b610b7c1a554",
   "metadata": {},
   "source": [
    "### **BENCHMARKING**\n",
    "**`_apply_matrix_to_single_state()`**: \n",
    "  1) only vmap in the core part;\n",
    "  2) without vmap in the core part;\n",
    "  3) jit everything (3a: same but just remove jit decorator);\n",
    "  4) more straightforward implementation\n",
    "  5) general case of implementation #4\n",
    "\n",
    "For the one qubit case, the fastest implementation is #4. Also for two-qubit gates, it is better to \"hard code\" the for loops. However, the general case seem to scale well with the number of affected qubits.\n",
    "The library currenctly uses implementation #4."
   ]
  },
  {
   "cell_type": "code",
   "execution_count": 1,
   "id": "522b8781-7092-4d21-a27d-7c08e23298f2",
   "metadata": {},
   "outputs": [],
   "source": [
    "import jax\n",
    "import jax.numpy as jnp\n",
    "import jax.random as jrand\n",
    "from Qubitly.states import normalize_array\n",
    "from Qubitly.states import WaveFunction, _NO_RANDOMNESS\n",
    "from Qubitly.circuits import QuantumCircuit\n",
    "from Qubitly.gates import Hadamard, CNOT"
   ]
  },
  {
   "cell_type": "code",
   "execution_count": 2,
   "id": "71fe5721-bd74-4072-9bf8-e1d6f3bb22b4",
   "metadata": {},
   "outputs": [],
   "source": [
    "# IMPLEMENTATION 1\n",
    "def _apply_matrix_to_single_site_1(matrix: jnp.ndarray, site: int, vector: jnp.ndarray):\n",
    "    dim = len(vector)\n",
    "    assert 0 <= site < dim\n",
    "\n",
    "    result = jnp.zeros_like(vector)\n",
    "\n",
    "    for s_out in range(2):\n",
    "        for s_in in range(2):\n",
    "            if matrix[s_out][s_in] != 0:\n",
    "                # Compute the contribution of matrix element s_out, s_in (s_out, s_in ∈ {0, 1})\n",
    "                def basis_state_matrix_element_contribution(p_in: int) -> (int, jnp.complex64):\n",
    "                    # For basis state p, extract the bit representing the site\n",
    "                    bit = (p_in >> site) & 1\n",
    "                \n",
    "                    def true_branch(p_in): # Works even if no argument is passed to the two branches\n",
    "                        # Compute the basis state that the matrix element under scrutiny produces a contribution to (this is p_out)\n",
    "                        mask = ~(1 << site)\n",
    "                        p_out = (p_in & mask) | (s_out << site)\n",
    "                        return p_out, matrix[s_out, s_in]*vector[p_in]\n",
    "                        \n",
    "                    def false_branch(p_in):\n",
    "                        return 0, 0.0 + 0.0j\n",
    "\n",
    "                    return jax.lax.cond(bit == s_in, true_branch, false_branch, operand=p_in)\n",
    "\n",
    "                idxs, amps = jax.vmap(basis_state_matrix_element_contribution)(jnp.arange(dim))\n",
    "                result = result.at[idxs].add(amps)\n",
    "\n",
    "    return result\n",
    "\n",
    "\n",
    "\n",
    "# IMPLEMENTATION 2\n",
    "def _apply_matrix_to_single_site_2(matrix: jnp.ndarray, site: int, vector: jnp.ndarray):\n",
    "    dim = len(vector)\n",
    "    assert matrix.shape == (2, 2)\n",
    "    assert 0 <= site < dim\n",
    "\n",
    "    result = jnp.zeros_like(vector)\n",
    "\n",
    "    for s_out in range(2):\n",
    "        for s_in in range(2):\n",
    "            if matrix[s_out][s_in] != 0:\n",
    "                # Compute the contribution of matrix element s_out, s_in (s_out, s_in ∈ {0, 1})\n",
    "                def basis_state_matrix_element_contribution(p_in: int) -> (int, jnp.complex64):\n",
    "                    # For basis state p, extract the bit representing the site\n",
    "                    bit = (p_in >> site) & 1\n",
    "                    if bit == s_in:\n",
    "                        # Compute the basis state that the matrix element under scrutiny produces a contribution to (this is p_out)\n",
    "                        mask = ~(1 << site)\n",
    "                        p_out = (p_in & mask) | (s_out << site)\n",
    "\n",
    "                        return p_out, matrix[s_out, s_in]*vector[p_in]\n",
    "                    else:\n",
    "                        return 0, 0.0 + 0.0j\n",
    "\n",
    "                for i in range(dim):\n",
    "                    idx, amp = basis_state_matrix_element_contribution(i)\n",
    "                    result = result.at[idx].add(amp)\n",
    "\n",
    "    return result\n",
    "\n",
    "\n",
    "# IMPLEMENTATION 3\n",
    "@jax.jit\n",
    "def _apply_matrix_to_single_site_3(matrix: jnp.ndarray, site: int, vector: jnp.ndarray):\n",
    "    dim = len(vector)\n",
    "    # assert 0 <= site < dim # Not allowed for jit\n",
    "\n",
    "    result = jnp.zeros_like(vector)\n",
    "\n",
    "    for s_out in range(2):\n",
    "        for s_in in range(2):\n",
    "            def handle_non_zero_matrix_elem(result) -> jnp.ndarray:\n",
    "                # Compute the contribution of matrix element s_out, s_in (s_out, s_in ∈ {0, 1})\n",
    "                def basis_state_matrix_element_contribution(p_in: int) -> (int, jnp.complex64):\n",
    "                    # For basis state p, extract the bit representing the site\n",
    "                    bit = (p_in >> site) & 1\n",
    "                \n",
    "                    def true_branch(_): # Works even if no argument is passed to the two branches\n",
    "                        # Compute the basis state that the matrix element under scrutiny produces a contribution to (this is p_out)\n",
    "                        mask = ~(1 << site)\n",
    "                        p_out = (p_in & mask) | (s_out << site)\n",
    "                        return p_out, matrix[s_out, s_in] * vector[p_in]\n",
    "                        \n",
    "                    def false_branch(_):\n",
    "                        return 0, 0.0 + 0.0j\n",
    "\n",
    "                    return jax.lax.cond(bit == s_in, true_branch, false_branch, operand=None)\n",
    "\n",
    "                idxs, amps = jax.vmap(basis_state_matrix_element_contribution)(jnp.arange(dim))\n",
    "                result = result.at[idxs].add(amps)\n",
    "\n",
    "                return result\n",
    "\n",
    "            result = jax.lax.cond(jnp.abs(matrix[s_out][s_in]) > 1e-12, handle_non_zero_matrix_elem, lambda x: x, operand=result)\n",
    "\n",
    "    return result\n",
    "\n",
    "\n",
    "# IMPLEMENTATION 4\n",
    "@jax.jit\n",
    "def _apply_matrix_to_single_site_4(matrix: jnp.ndarray, site: int, vector: jnp.ndarray):\n",
    "\n",
    "    def calculate_basis_state_contribution(p: int):\n",
    "        site_bit = (p >> site) & 1\n",
    "\n",
    "        mask = ~(1 << site)\n",
    "        masked_p = p & mask\n",
    "        \n",
    "        def handle_matrix_element(i: int):\n",
    "            idx = masked_p | (i << site)\n",
    "            amp = matrix[i, site_bit] * vector[p]\n",
    "            return idx, amp\n",
    "\n",
    "        idxs_p, amps_p = jax.vmap(handle_matrix_element)(jnp.arange(2))\n",
    "        return idxs_p, amps_p\n",
    "\n",
    "\n",
    "    idxs, amps = jax.vmap(calculate_basis_state_contribution)(jnp.arange(len(vector)))\n",
    "    \n",
    "    result = jnp.zeros_like(vector)\n",
    "    result = result.at[idxs].add(amps)\n",
    "    return result  \n",
    "\n",
    "\n",
    "# IMPLEMENTATION 5 (which is for the general case)\n",
    "@jax.jit\n",
    "def _apply_matrix_to_sites(matrix: jnp.ndarray, sites: jnp.array, vector: jnp.ndarray):\n",
    "    # NOTE that argument \"sites\" cannot be a regular list. In fact, index \"i\" of fori_loops is a tracer and cannot be used to access elements of a list instead of a concrete integer: TracerIntegerConversionError is raised.\n",
    "\n",
    "    def calculate_basis_state_contribution(p: int):\n",
    "        affected_substate_number = jax.lax.fori_loop(0, len(sites), \n",
    "                                      lambda i, state: state | ((p >> sites[i]) & 1) << i, \n",
    "                                      0)\n",
    "\n",
    "        mask = ~ jax.lax.fori_loop(0, len(sites), \n",
    "                                   lambda i, state: state | (1 << sites[i]), \n",
    "                                   0)\n",
    "        masked_p = p & mask\n",
    "        \n",
    "        def handle_matrix_element(s: int):\n",
    "            bitfiled_update = jax.lax.fori_loop(0, len(sites), \n",
    "                                                lambda i, state: state | ((s >> i) & 1) << sites[i], \n",
    "                                                0)\n",
    "            idx = masked_p | bitfiled_update\n",
    "            amp = matrix[s, affected_substate_number] * vector[p]\n",
    "            return idx, amp\n",
    "\n",
    "        idxs_p, amps_p = jax.vmap(handle_matrix_element)(jnp.arange(2**len(sites)))\n",
    "        return idxs_p, amps_p\n",
    "\n",
    "\n",
    "    idxs, amps = jax.vmap(calculate_basis_state_contribution)(jnp.arange(len(vector)))\n",
    "    \n",
    "    result = jnp.zeros_like(vector)\n",
    "    result = result.at[idxs].add(amps)\n",
    "    return result"
   ]
  },
  {
   "cell_type": "code",
   "execution_count": 3,
   "id": "fb894630-d699-4763-addf-efeab80d31e5",
   "metadata": {},
   "outputs": [],
   "source": [
    "sigma_x_arr = jnp.array([[0.0, 1.0], \n",
    "                     [1.0, 0.0]], dtype=jnp.complex64)\n",
    "\n",
    "_low_dim_state = jnp.ones(2**3, dtype=jnp.complex64)\n",
    "_low_dim_state = normalize_array(_low_dim_state)\n",
    "\n",
    "_mid_dim_state = jnp.ones(2**5, dtype=jnp.complex64)\n",
    "_mid_dim_state = normalize_array(_mid_dim_state)\n",
    "\n",
    "_high_dim_state = jnp.ones(2**10, dtype=jnp.complex64)\n",
    "_high_dim_state = normalize_array(_high_dim_state)"
   ]
  },
  {
   "cell_type": "markdown",
   "id": "6c952d38-5c10-4766-9cc4-f9c6448f72b3",
   "metadata": {},
   "source": [
    "**Comparison between implementation #1 and implementation #2 for vectors of increasing size.**\n",
    "Turns out that the naive implementation performs better for up to two spins. For 10 spins, the vectorized implementation is around 50 times faster."
   ]
  },
  {
   "cell_type": "code",
   "execution_count": 4,
   "id": "2e6e1bc2-a7ad-44b4-9524-e3e548927934",
   "metadata": {},
   "outputs": [
    {
     "name": "stdout",
     "output_type": "stream",
     "text": [
      "Implementation 1, low dimensional vector\n",
      "28.5 ms ± 1.03 ms per loop (mean ± std. dev. of 7 runs, 1 loop each)\n",
      "Implementation 1, mid dimensional vector\n",
      "26.1 ms ± 894 μs per loop (mean ± std. dev. of 7 runs, 1 loop each)\n",
      "Implementation 1, high dimensional vector\n",
      "32.9 ms ± 662 μs per loop (mean ± std. dev. of 7 runs, 1 loop each)\n",
      "\n",
      "Implementation 2, low dimensional vector\n",
      "19.1 ms ± 292 μs per loop (mean ± std. dev. of 7 runs, 100 loops each)\n",
      "Implementation 2, mid dimensional vector\n",
      "68.3 ms ± 1.37 ms per loop (mean ± std. dev. of 7 runs, 10 loops each)\n",
      "Implementation 2, high dimensional vector\n",
      "2.17 s ± 198 ms per loop (mean ± std. dev. of 7 runs, 1 loop each)\n"
     ]
    }
   ],
   "source": [
    "print(\"Implementation 1, low dimensional vector\")\n",
    "%timeit tr_low_dim_state = _apply_matrix_to_single_site_1(sigma_x_arr, 2, _low_dim_state)\n",
    "print(\"Implementation 1, mid dimensional vector\")\n",
    "%timeit tr_mid_dim_state = _apply_matrix_to_single_site_1(sigma_x_arr, 4, _mid_dim_state)\n",
    "print(\"Implementation 1, high dimensional vector\")\n",
    "%timeit tr_high_dim_state = _apply_matrix_to_single_site_1(sigma_x_arr, 9, _high_dim_state)\n",
    "\n",
    "print()\n",
    "\n",
    "print(\"Implementation 2, low dimensional vector\")\n",
    "%timeit tr_low_dim_state = _apply_matrix_to_single_site_2(sigma_x_arr, 2, _low_dim_state)\n",
    "print(\"Implementation 2, mid dimensional vector\")\n",
    "%timeit tr_mid_dim_state = _apply_matrix_to_single_site_2(sigma_x_arr, 4, _mid_dim_state)\n",
    "print(\"Implementation 2, high dimensional vector\")\n",
    "%timeit tr_high_dim_state = _apply_matrix_to_single_site_2(sigma_x_arr, 9, _high_dim_state)"
   ]
  },
  {
   "cell_type": "markdown",
   "id": "0e9cdcd6-82f8-4ecd-99e2-2c56e82655ae",
   "metadata": {},
   "source": [
    "**Performance of implementation #3**\n"
   ]
  },
  {
   "cell_type": "code",
   "execution_count": 5,
   "id": "eb5309f9-ecd0-4240-af6a-ba9c039613ec",
   "metadata": {},
   "outputs": [
    {
     "name": "stdout",
     "output_type": "stream",
     "text": [
      "Implementation 3, low dimensional vector\n",
      "5.25 μs ± 174 ns per loop (mean ± std. dev. of 7 runs, 100,000 loops each)\n",
      "Implementation 3, mid dimensional vector\n",
      "5.39 μs ± 198 ns per loop (mean ± std. dev. of 7 runs, 100,000 loops each)\n",
      "Implementation 3, high dimensional vector\n",
      "19 μs ± 827 ns per loop (mean ± std. dev. of 7 runs, 100,000 loops each)\n"
     ]
    }
   ],
   "source": [
    "print(\"Implementation 3, low dimensional vector\")\n",
    "%timeit tr_low_dim_state = _apply_matrix_to_single_site_3(sigma_x_arr, 2, _low_dim_state)\n",
    "print(\"Implementation 3, mid dimensional vector\")\n",
    "%timeit tr_mid_dim_state = _apply_matrix_to_single_site_3(sigma_x_arr, 4, _mid_dim_state)\n",
    "print(\"Implementation 3, high dimensional vector\")\n",
    "%timeit tr_high_dim_state = _apply_matrix_to_single_site_3(sigma_x_arr, 8, _high_dim_state)\n",
    "\n",
    "# WITHOUT JITTING\n",
    "# Implementation 3, low dimensional vector\n",
    "# 184 ms ± 1.95 ms per loop (mean ± std. dev. of 7 runs, 1 loop each)\n",
    "# Implementation 3, mid dimensional vector\n",
    "# 192 ms ± 2.67 ms per loop (mean ± std. dev. of 7 runs, 10 loops each)\n",
    "# Implementation 3, high dimensional vector\n",
    "# 193 ms ± 905 μs per loop (mean ± std. dev. of 7 runs, 10 loops each)"
   ]
  },
  {
   "cell_type": "markdown",
   "id": "c952b0cf-3ba8-4782-a7ee-335e548e836c",
   "metadata": {},
   "source": [
    "**Performance of implementation #4**"
   ]
  },
  {
   "cell_type": "code",
   "execution_count": 6,
   "id": "9512042c-d979-4f18-9d6a-d6cda9ef5b1e",
   "metadata": {},
   "outputs": [
    {
     "name": "stdout",
     "output_type": "stream",
     "text": [
      "Implementation 4, low dimensional vector\n",
      "4.61 μs ± 293 ns per loop (mean ± std. dev. of 7 runs, 100,000 loops each)\n",
      "Implementation 4, mid dimensional vector\n",
      "4.63 μs ± 22.6 ns per loop (mean ± std. dev. of 7 runs, 100,000 loops each)\n",
      "Implementation 4, high dimensional vector\n",
      "12.9 μs ± 183 ns per loop (mean ± std. dev. of 7 runs, 100,000 loops each)\n"
     ]
    }
   ],
   "source": [
    "print(\"Implementation 4, low dimensional vector\")\n",
    "%timeit tr_low_dim_state = _apply_matrix_to_single_site_4(sigma_x_arr, 2, _low_dim_state)\n",
    "print(\"Implementation 4, mid dimensional vector\")\n",
    "%timeit tr_mid_dim_state = _apply_matrix_to_single_site_4(sigma_x_arr, 4, _mid_dim_state)\n",
    "print(\"Implementation 4, high dimensional vector\")\n",
    "%timeit tr_high_dim_state = _apply_matrix_to_single_site_4(sigma_x_arr, 8, _high_dim_state)\n",
    "\n",
    "# WITHOUT JITTING\n",
    "# Implementation 4, low dimensional vector\n",
    "# 7.63 ms ± 322 μs per loop (mean ± std. dev. of 7 runs, 1 loop each)\n",
    "# Implementation 4, mid dimensional vector\n",
    "# 7.58 ms ± 421 μs per loop (mean ± std. dev. of 7 runs, 1 loop each)\n",
    "# Implementation 4, high dimensional vector\n",
    "# 7.44 ms ± 318 μs per loop (mean ± std. dev. of 7 runs, 1 loop each)"
   ]
  },
  {
   "cell_type": "markdown",
   "id": "bef117e7-fb5c-401b-9632-2572ff5c0067",
   "metadata": {},
   "source": [
    "**Performance of implementation #5 (general case)**"
   ]
  },
  {
   "cell_type": "code",
   "execution_count": 7,
   "id": "52fee7d0-c030-426f-887e-95fb1c87bef9",
   "metadata": {},
   "outputs": [
    {
     "name": "stdout",
     "output_type": "stream",
     "text": [
      "Implementation 5, low dimensional vector\n",
      "63.3 μs ± 111 ns per loop (mean ± std. dev. of 7 runs, 10,000 loops each)\n",
      "Implementation 5, mid dimensional vector\n",
      "63.6 μs ± 73 ns per loop (mean ± std. dev. of 7 runs, 10,000 loops each)\n",
      "Implementation 5, high dimensional vector\n",
      "72 μs ± 110 ns per loop (mean ± std. dev. of 7 runs, 10,000 loops each)\n"
     ]
    }
   ],
   "source": [
    "print(\"Implementation 5, low dimensional vector\")\n",
    "%timeit tr_low_dim_state = _apply_matrix_to_sites(sigma_x_arr, jnp.array([2]), _low_dim_state)\n",
    "print(\"Implementation 5, mid dimensional vector\")\n",
    "%timeit tr_mid_dim_state = _apply_matrix_to_sites(sigma_x_arr, jnp.array([4]), _mid_dim_state)\n",
    "print(\"Implementation 5, high dimensional vector\")\n",
    "%timeit tr_high_dim_state = _apply_matrix_to_sites(sigma_x_arr, jnp.array([8]), _high_dim_state)\n",
    "\n",
    "# WITHOUT JITTING (NO DIFFERENCE IN THIS CASE!!!)\n",
    "# Implementation 5, low dimensional vector\n",
    "# 62.8 μs ± 288 ns per loop (mean ± std. dev. of 7 runs, 10,000 loops each)\n",
    "# Implementation 5, mid dimensional vector\n",
    "# 62.7 μs ± 413 ns per loop (mean ± std. dev. of 7 runs, 10,000 loops each)\n",
    "# Implementation 5, high dimensional vector\n",
    "# 71.7 μs ± 662 ns per loop (mean ± std. dev. of 7 runs, 10,000 loops each)"
   ]
  },
  {
   "cell_type": "markdown",
   "id": "e29001fa-8992-4d0c-853c-02da0a3ec65a",
   "metadata": {},
   "source": [
    "**`_apply_matrix_to_two_sites()`**: \n",
    "  1) adapted from single site implementation #3\n",
    "  2) adapted from single site implementation #4\n",
    "  3) generalization of single site implementation #4 (same function as single site case #5)\n",
    "\n",
    "The library currently uses implementation #2"
   ]
  },
  {
   "cell_type": "code",
   "execution_count": 8,
   "id": "fc1ea4f4-5e8a-4d14-b885-09b25581f632",
   "metadata": {},
   "outputs": [],
   "source": [
    "# IMPLEMENTATION 1\n",
    "@jax.jit\n",
    "def _apply_matrix_to_two_sites_1(matrix: jnp.ndarray, sites: list[int], vector: jnp.ndarray):\n",
    "    dim = len(vector)\n",
    "    # assert 0 <= site < dim # Not allowed for jit\n",
    "\n",
    "    result = jnp.zeros_like(vector)\n",
    "\n",
    "    for ss_out in range(4):\n",
    "        for ss_in in range(4):\n",
    "            def handle_non_zero_matrix_elem(result) -> jnp.ndarray:\n",
    "                # Compute the contribution of matrix element s_out, s_in (s_out, s_in ∈ {0, 1})\n",
    "                def basis_state_matrix_element_contribution(p_in: int) -> (int, jnp.complex64):\n",
    "                    \n",
    "                    def extract_bit(site: int):\n",
    "                        # For basis state p, extract the bit representing site\n",
    "                        return (p_in >> site) & 1\n",
    "                    bits = jax.vmap(extract_bit)(jnp.array(sites))\n",
    "                \n",
    "                    def true_branch(_): # Variables are captured from the scope\n",
    "                        # Compute the basis state that the matrix element under scrutiny produces a contribution to (this is p_out)\n",
    "                        mask = ~( (1 << sites[0]) | (1 << sites[1]) )\n",
    "                        p_out = (p_in & mask) | ((ss_out & 1) << sites[0]) | ((ss_out >> 1) << sites[1])\n",
    "                        # p_out = (p_in & mask) | (((ss_out >> 0) & 1) << sites[1]) | (((ss_out >> 1) & 1) << sites[0])\n",
    "                        return p_out, matrix[ss_out, ss_in]*vector[p_in]\n",
    "\n",
    "                    return jax.lax.cond(jnp.all(bits == jnp.array([ss_in & 1, ss_in >> 1])), true_branch, lambda _: (0, 0.0 + 0.0j), operand=None)\n",
    "\n",
    "                idxs, amps = jax.vmap(basis_state_matrix_element_contribution)(jnp.arange(dim))\n",
    "                result = result.at[idxs].add(amps)\n",
    "\n",
    "                return result\n",
    "\n",
    "            result = jax.lax.cond(jnp.abs(matrix[ss_out][ss_in]) > 1e-12, handle_non_zero_matrix_elem, lambda x: x, operand=result)\n",
    "\n",
    "    return result\n",
    "\n",
    "\n",
    "# IMPLEMENTATION 2\n",
    "@jax.jit\n",
    "def _apply_matrix_to_two_sites_2(matrix: jnp.ndarray, sites: list[int], vector: jnp.ndarray):\n",
    "\n",
    "    def calculate_basis_state_contribution(p: int):\n",
    "        least_important_bit = (p >> sites[0]) & 1\n",
    "        most_important_bit = (p >> sites[1]) & 1\n",
    "        sites_number = (most_important_bit << 1) | least_important_bit\n",
    "\n",
    "        mask = ~( (1 << sites[0]) | (1 << sites[1]) )\n",
    "        masked_p = p & mask\n",
    "        \n",
    "        def handle_matrix_element(i: int):\n",
    "            idx = masked_p | ((i & 1) << sites[0]) | ((i >> 1) << sites[1])\n",
    "            amp = matrix[i, sites_number] * vector[p]\n",
    "            return idx, amp\n",
    "\n",
    "        idxs_p, amps_p = jax.vmap(handle_matrix_element)(jnp.arange(4))\n",
    "        return idxs_p, amps_p\n",
    "\n",
    "\n",
    "    idxs, amps = jax.vmap(calculate_basis_state_contribution)(jnp.arange(len(vector)))\n",
    "    \n",
    "    result = jnp.zeros_like(vector)\n",
    "    result = result.at[idxs].add(amps)\n",
    "    return result  "
   ]
  },
  {
   "cell_type": "code",
   "execution_count": 9,
   "id": "79f3946f-332b-4eb8-8715-95a5fea01593",
   "metadata": {},
   "outputs": [],
   "source": [
    "CNOT_arr = jnp.array([[1.0, 0.0, 0.0, 0.0], \n",
    "                  [0.0, 0.0, 0.0, 1.0], \n",
    "                  [0.0, 0.0, 1.0, 0.0], \n",
    "                  [0.0, 1.0, 0.0, 0.0]], dtype=jnp.complex64)\n",
    "\n",
    "_low_dim_state = jnp.ones(2**3, dtype=jnp.complex64)\n",
    "_low_dim_state = normalize_array(_low_dim_state)\n",
    "\n",
    "_mid_dim_state = jnp.ones(2**5, dtype=jnp.complex64)\n",
    "_mid_dim_state = normalize_array(_mid_dim_state)\n",
    "\n",
    "_high_dim_state = jnp.ones(2**10, dtype=jnp.complex64)\n",
    "_high_dim_state = normalize_array(_high_dim_state)"
   ]
  },
  {
   "cell_type": "code",
   "execution_count": 10,
   "id": "af2cc0c9-029c-404a-addd-6a371c608aed",
   "metadata": {},
   "outputs": [
    {
     "name": "stdout",
     "output_type": "stream",
     "text": [
      "[0.+0.j 0.+0.j 0.+0.j 1.+0.j]\n"
     ]
    }
   ],
   "source": [
    "_state = jnp.array([0, 1, 0, 0], dtype=jnp.complex64)\n",
    "\n",
    "_result = _apply_matrix_to_two_sites_1(CNOT_arr, [0,1], _state)\n",
    "\n",
    "print(_result)\n",
    "\n",
    "# NOTE that the first element in the list is the control bit. By inspecting the matrix above you can deduce that the control bit is the least important of the two. \n",
    "# Hence the first element of the list corresponds to the least important (i. e. the rightmost) bit in the matrix."
   ]
  },
  {
   "cell_type": "markdown",
   "id": "fe2df20d-9478-4bfa-bcae-c21da2e16c35",
   "metadata": {},
   "source": [
    "**Performance of implementation #1 (adapted from single-site implementation #3)**"
   ]
  },
  {
   "cell_type": "code",
   "execution_count": 11,
   "id": "402fa570-5fa0-4931-8dcd-af0bf6771270",
   "metadata": {},
   "outputs": [
    {
     "name": "stdout",
     "output_type": "stream",
     "text": [
      "Low dimensional vector\n",
      "13.6 μs ± 7.8 μs per loop (mean ± std. dev. of 7 runs, 1 loop each)\n",
      "Mid dimensional vector\n",
      "14.6 μs ± 7.12 μs per loop (mean ± std. dev. of 7 runs, 1 loop each)\n",
      "High dimensional vector\n",
      "55.3 μs ± 6.73 μs per loop (mean ± std. dev. of 7 runs, 1 loop each)\n"
     ]
    }
   ],
   "source": [
    "print(\"Low dimensional vector\")\n",
    "%timeit _apply_matrix_to_two_sites_1(CNOT_arr, [0,2], _low_dim_state)\n",
    "print(\"Mid dimensional vector\")\n",
    "%timeit _apply_matrix_to_two_sites_1(CNOT_arr, [1,4], _mid_dim_state)\n",
    "print(\"High dimensional vector\")\n",
    "%timeit _apply_matrix_to_two_sites_1(CNOT_arr, [2,9], _high_dim_state)\n",
    "\n",
    "# WITHOUT JITTING\n",
    "# Low dimensional vector\n",
    "# 855 ms ± 53.7 ms per loop (mean ± std. dev. of 7 runs, 1 loop each)\n",
    "# Mid dimensional vector\n",
    "# 870 ms ± 9.8 ms per loop (mean ± std. dev. of 7 runs, 1 loop each)\n",
    "# High dimensional vector\n",
    "# 845 ms ± 20.4 ms per loop (mean ± std. dev. of 7 runs, 1 loop each)"
   ]
  },
  {
   "cell_type": "markdown",
   "id": "7ebab307-474f-44c9-9b72-d8483a10e25b",
   "metadata": {},
   "source": [
    "**Performance of implementation #2 (adapted from single-site implementation #4)**"
   ]
  },
  {
   "cell_type": "code",
   "execution_count": 12,
   "id": "3796e846-83ff-4235-a9fd-28a3b88ee5ca",
   "metadata": {},
   "outputs": [
    {
     "name": "stdout",
     "output_type": "stream",
     "text": [
      "Low dimensional vector\n",
      "6.05 μs ± 95.1 ns per loop (mean ± std. dev. of 7 runs, 100,000 loops each)\n",
      "Mid dimensional vector\n",
      "5.92 μs ± 15.8 ns per loop (mean ± std. dev. of 7 runs, 100,000 loops each)\n",
      "High dimensional vector\n",
      "22.7 μs ± 46.5 ns per loop (mean ± std. dev. of 7 runs, 10,000 loops each)\n"
     ]
    }
   ],
   "source": [
    "print(\"Low dimensional vector\")\n",
    "%timeit _apply_matrix_to_two_sites_2(CNOT_arr, [0,2], _low_dim_state)\n",
    "print(\"Mid dimensional vector\")\n",
    "%timeit _apply_matrix_to_two_sites_2(CNOT_arr, [1,4], _mid_dim_state)\n",
    "print(\"High dimensional vector\")\n",
    "%timeit _apply_matrix_to_two_sites_2(CNOT_arr, [2,9], _high_dim_state)\n",
    "\n",
    "# WITHOUT JITTING\n",
    "# Low dimensional vector\n",
    "# 9.61 ms ± 562 μs per loop (mean ± std. dev. of 7 runs, 1 loop each)\n",
    "# Mid dimensional vector\n",
    "# 9.57 ms ± 273 μs per loop (mean ± std. dev. of 7 runs, 1 loop each)\n",
    "# High dimensional vector\n",
    "# 9.62 ms ± 398 μs per loop (mean ± std. dev. of 7 runs, 1 loop each)"
   ]
  },
  {
   "cell_type": "markdown",
   "id": "39b408bc-723d-4277-a1ac-cd207182b51c",
   "metadata": {},
   "source": [
    "**Performance of the general function (implementation #3 - see single-site implementation #5)**"
   ]
  },
  {
   "cell_type": "code",
   "execution_count": 13,
   "id": "81b6ba42-d999-4567-b8b1-19a037d071af",
   "metadata": {},
   "outputs": [
    {
     "name": "stdout",
     "output_type": "stream",
     "text": [
      "Low dimensional vector\n",
      "70.1 μs ± 177 ns per loop (mean ± std. dev. of 7 runs, 10,000 loops each)\n",
      "Mid dimensional vector\n",
      "70.7 μs ± 246 ns per loop (mean ± std. dev. of 7 runs, 10,000 loops each)\n",
      "High dimensional vector\n",
      "92.9 μs ± 7.68 μs per loop (mean ± std. dev. of 7 runs, 10,000 loops each)\n"
     ]
    }
   ],
   "source": [
    "print(\"Low dimensional vector\")\n",
    "%timeit _apply_matrix_to_sites(CNOT_arr, jnp.array([0,2]), _low_dim_state)\n",
    "print(\"Mid dimensional vector\")\n",
    "%timeit _apply_matrix_to_sites(CNOT_arr, jnp.array([1,4]), _mid_dim_state)\n",
    "print(\"High dimensional vector\")\n",
    "%timeit _apply_matrix_to_sites(CNOT_arr, jnp.array([2,9]), _high_dim_state)"
   ]
  },
  {
   "cell_type": "markdown",
   "id": "d749e47a-893c-422d-86c9-f882cda9b67a",
   "metadata": {},
   "source": [
    "**`_measure_computational_basis()`**: \n",
    "  1) keeps an array of the original size masking out bits that are irrelevant for the measurement (1b: same but without jitting)\n",
    "  2) computes probabilities extracting only relevant bits into a smalller array (current implementation)"
   ]
  },
  {
   "cell_type": "code",
   "execution_count": 14,
   "id": "8a8e1511-79fd-4f9d-a0d8-b529842fe384",
   "metadata": {},
   "outputs": [],
   "source": [
    "@jax.jit\n",
    "def _measure_computational_basis_1(key, amplitudes: jnp.ndarray, qubits_to_measure: jnp.ndarray):\n",
    "    \n",
    "    def get_single_quibit_mask(qubit: int):\n",
    "        return 1 << qubit\n",
    "    single_qubit_masks = jax.vmap(get_single_quibit_mask)(qubits_to_measure)\n",
    "    measure_mask = jax.lax.fori_loop(0, len(single_qubit_masks), lambda i, measure_mask: measure_mask | single_qubit_masks[i], 0)\n",
    "    \n",
    "    def apply_measure_mask(p: int) -> (int, jnp.complex64):\n",
    "        idx = p & measure_mask\n",
    "        amp = amplitudes[p]\n",
    "        return idx, amp\n",
    "    idxs, amps = jax.vmap(apply_measure_mask)(jnp.arange(amplitudes.shape[0]))\n",
    "    prob_of_masked_basis_states = jnp.zeros_like(amplitudes)\n",
    "    prob_of_masked_basis_states = prob_of_masked_basis_states.at[idxs].add(jnp.abs(amps)**2)\n",
    "\n",
    "    # Sample masked basis state\n",
    "    key, subkey = jrand.split(key)\n",
    "    r = jrand.uniform(subkey)\n",
    "\n",
    "    cum_of_masked_basis_states = jnp.cumsum(prob_of_masked_basis_states)\n",
    "    sampled_masked_basis_state_idx = jnp.searchsorted(cum_of_masked_basis_states, r)\n",
    "\n",
    "    # Build state from those amplitudes whose corresponding basis state index equals the sampled one when masked\n",
    "    # We call those indices \"compliant\"\n",
    "    def is_basis_state_idx_compliant(p: int):\n",
    "        return (p & measure_mask) == sampled_masked_basis_state_idx\n",
    "    compliant_idxs_mask = jax.vmap(is_basis_state_idx_compliant)(jnp.arange(amplitudes.shape[0]))\n",
    "\n",
    "    measured_amplitudes = jnp.where(compliant_idxs_mask, amplitudes, 0.0)\n",
    "    measured_amplitudes = normalize_array(measured_amplitudes)\n",
    "\n",
    "    return key, measured_amplitudes\n",
    "\n",
    "\n",
    "@jax.jit\n",
    "def _measure_computational_basis_2(key, amplitudes: jnp.ndarray, qubits_to_measure: jnp.ndarray):\n",
    "    \n",
    "    # Build probability vector for the measured subspace\n",
    "    def extract_amp_and_state_num(p: int):\n",
    "        amp = amplitudes[p]\n",
    "        \n",
    "        def add_qubit_contribution_to_state_num(i, old_state_num):\n",
    "            bit_value = (p >> qubits_to_measure[i]) & 1\n",
    "            new_state_num = old_state_num | (bit_value << i)\n",
    "            return new_state_num\n",
    "        state_num = jax.lax.fori_loop(0, len(qubits_to_measure), add_qubit_contribution_to_state_num, 0)\n",
    "\n",
    "        return amp, state_num\n",
    "\n",
    "    amps, state_nums = jax.vmap(extract_amp_and_state_num)(jnp.arange(amplitudes.shape[0]))\n",
    "    probabilities = jnp.zeros(2 ** qubits_to_measure.shape[0])\n",
    "    probabilities = probabilities.at[state_nums].add(jnp.abs(amps)**2)\n",
    "\n",
    "    # Sample state in measured subspace\n",
    "    key, subkey = jrand.split(key)\n",
    "    r = jrand.uniform(subkey)\n",
    "\n",
    "    cumulative = jnp.cumsum(probabilities)\n",
    "    sampled_state_num = jnp.searchsorted(cumulative, r)\n",
    "\n",
    "    # Compute amplitutudes after the measurement by retaining only amplitudes that are tied to the measure outcome\n",
    "    result_amplitudes = jnp.where(state_nums == sampled_state_num, amplitudes, 0.0)\n",
    "    result_amplitudes = normalize_array(result_amplitudes)\n",
    "\n",
    "    return key, result_amplitudes\n",
    "\n",
    "@jax.jit\n",
    "def _measure_all_computational_basis(key, amplitudes: jnp.ndarray):\n",
    "    key, subkey = jrand.split(key)\n",
    "    r = jrand.uniform(subkey)\n",
    "    \n",
    "    probabilities = jnp.abs(amplitudes) ** 2\n",
    "    cumulative = jnp.cumsum(probabilities)\n",
    "    sampled_basis_state = jnp.searchsorted(cumulative, r) # Find the index of the smallest element of the array among those that are grater than r\n",
    "    \n",
    "    measured_amplitudes = jnp.zeros_like(amplitudes, dtype=jnp.complex64)\n",
    "    measured_amplitudes = measured_amplitudes.at[sampled_basis_state].set(1.0)\n",
    "\n",
    "    return key, sampled_basis_state, measured_amplitudes"
   ]
  },
  {
   "cell_type": "code",
   "execution_count": 15,
   "id": "951ff955-596b-4148-8b1d-d18dbdd87fd4",
   "metadata": {},
   "outputs": [
    {
     "name": "stdout",
     "output_type": "stream",
     "text": [
      "386 μs ± 80 μs per loop (mean ± std. dev. of 7 runs, 1 loop each)\n",
      "320 μs ± 1.1 μs per loop (mean ± std. dev. of 7 runs, 1,000 loops each)\n"
     ]
    }
   ],
   "source": [
    "amplitudes = jnp.array([1, 1, 0, 1], dtype=jnp.complex64)\n",
    "# i. e. |00> + |01> + |11>\n",
    "key = jrand.key(2)\n",
    "\n",
    "\n",
    "# Measure qubit 0\n",
    "%timeit _measure_computational_basis_1(key, amplitudes, jnp.array([0]))\n",
    "# Possible outcomes: |00> with probability 1/3, |01> + |11> with probability 2/3\n",
    "# It would make more sense to use a different random key at every iteration\n",
    "\n",
    "# WITHOUT JITTING\n",
    "# 19.5 ms ± 86 μs per loop (mean ± std. dev. of 7 runs, 100 loops each)\n",
    "\n",
    "\n",
    "# Measure qubit 0\n",
    "%timeit _measure_computational_basis_2(key, amplitudes, jnp.array([0]))\n",
    "# Possible outcomes: |00> with probability 1/3, |01> + |11> with probability 2/3\n",
    "# It would make more sense to use a different random key at every iteration\n",
    "\n",
    "# WITHOUT JITTING\n",
    "# 25.2 ms ± 183 μs per loop (mean ± std. dev. of 7 runs, 10 loops each)"
   ]
  },
  {
   "cell_type": "markdown",
   "id": "634cf68c-e29f-4d5e-8f7b-eec7f5038aa7",
   "metadata": {},
   "source": [
    "**`_measure_all_computational_basis()`**: \n",
    "  1) current implemetation (1b: same but without jitting)"
   ]
  },
  {
   "cell_type": "code",
   "execution_count": 16,
   "id": "7967a4be-ada1-4545-aa52-61e3751bec6f",
   "metadata": {},
   "outputs": [
    {
     "name": "stdout",
     "output_type": "stream",
     "text": [
      "226 μs ± 1.2 μs per loop (mean ± std. dev. of 7 runs, 1,000 loops each)\n"
     ]
    }
   ],
   "source": [
    "amplitudes = jnp.array([1, 1, 0, 1], dtype=jnp.complex64)\n",
    "# i. e. |00> + |01> + |11>\n",
    "key = jrand.key(2)\n",
    "\n",
    "\n",
    "# Measure qubit 0\n",
    "%timeit _measure_all_computational_basis(key, amplitudes)\n",
    "# It would make more sense to use a different random key at every iteration\n",
    "\n",
    "# WITHOUT JITTING\n",
    "# 1.46 ms ± 35.9 μs per loop (mean ± std. dev. of 7 runs, 1,000 loops each)"
   ]
  },
  {
   "cell_type": "markdown",
   "id": "e77e3e5e-dc0c-4fa4-a975-fdb9ab4d68d5",
   "metadata": {},
   "source": [
    "**Jitting QuantumCircuit or not?**\n",
    "\n",
    "Jitting QuantumCircuit seems indeed a good idea. The speedup is bigger for longer circuits, smaller for big n_qubits.\n",
    "Jitting an instance of QuantumCircuit results in slightly better performance than using method `jit_call()`, which in turn calls a jitted version of the call function."
   ]
  },
  {
   "cell_type": "code",
   "execution_count": 2,
   "id": "dfbca070-e480-4369-8413-6308bf5e64a7",
   "metadata": {},
   "outputs": [
    {
     "name": "stdout",
     "output_type": "stream",
     "text": [
      "34.6 μs ± 8.45 μs per loop (mean ± std. dev. of 7 runs, 10,000 loops each)\n",
      "5.83 μs ± 1.02 μs per loop (mean ± std. dev. of 7 runs, 100,000 loops each)\n",
      "4.76 μs ± 83.1 ns per loop (mean ± std. dev. of 7 runs, 100,000 loops each)\n",
      "\n",
      "103 μs ± 264 ns per loop (mean ± std. dev. of 7 runs, 10,000 loops each)\n",
      "27.2 μs ± 39.4 ns per loop (mean ± std. dev. of 7 runs, 10,000 loops each)\n",
      "26.7 μs ± 96.4 ns per loop (mean ± std. dev. of 7 runs, 10,000 loops each)\n",
      "\n",
      "10.8 ms ± 7.83 μs per loop (mean ± std. dev. of 7 runs, 100 loops each)\n",
      "9.9 ms ± 119 μs per loop (mean ± std. dev. of 7 runs, 1 loop each)\n",
      "9.95 ms ± 189 μs per loop (mean ± std. dev. of 7 runs, 1 loop each)\n",
      "\n"
     ]
    }
   ],
   "source": [
    "low_dim = 3\n",
    "mid_dim = 8\n",
    "high_dim = 15\n",
    "\n",
    "for dim in [low_dim, mid_dim, high_dim]:\n",
    "    _0 = WaveFunction.from_string(\"0\"*dim)\n",
    "    GHZ_preparation = QuantumCircuit(\n",
    "        Hadamard(0),\n",
    "        *[CNOT(control=i-1, target=i) for i in range(1, dim)],\n",
    "    )\n",
    "    %timeit GHZ_preparation(_0)\n",
    "    %timeit GHZ_preparation.jit_call(_0)\n",
    "    \n",
    "    GHZ_preparation_jit = jax.jit(GHZ_preparation)\n",
    "    %timeit GHZ_preparation_jit(_0)\n",
    "    \n",
    "    print()"
   ]
  },
  {
   "cell_type": "code",
   "execution_count": null,
   "id": "b73a52e1-622b-4a32-b94d-e38ddf085842",
   "metadata": {},
   "outputs": [],
   "source": []
  }
 ],
 "metadata": {
  "kernelspec": {
   "display_name": "Python 3 (ipykernel)",
   "language": "python",
   "name": "python3"
  },
  "language_info": {
   "codemirror_mode": {
    "name": "ipython",
    "version": 3
   },
   "file_extension": ".py",
   "mimetype": "text/x-python",
   "name": "python",
   "nbconvert_exporter": "python",
   "pygments_lexer": "ipython3",
   "version": "3.10.13"
  }
 },
 "nbformat": 4,
 "nbformat_minor": 5
}
