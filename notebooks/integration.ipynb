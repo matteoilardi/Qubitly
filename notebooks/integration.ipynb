{
 "cells": [
  {
   "cell_type": "markdown",
   "id": "a8e71a4f-772e-444f-a710-c6874f3ddd7d",
   "metadata": {},
   "source": [
    "### **INTEGRATION CHECKS**"
   ]
  },
  {
   "cell_type": "code",
   "execution_count": 1,
   "id": "84f13535-5bcc-47a0-a985-9602fa5593f8",
   "metadata": {},
   "outputs": [],
   "source": [
    "import jax\n",
    "import jax.numpy as jnp\n",
    "import jax.random as jrand\n",
    "import pytest"
   ]
  },
  {
   "cell_type": "markdown",
   "id": "d98c1bdb-03e2-4d9f-bc0b-622f68094c43",
   "metadata": {},
   "source": [
    "**WaveFunction**"
   ]
  },
  {
   "cell_type": "code",
   "execution_count": 2,
   "id": "22ffe7f2-5e86-401d-a369-e08619242f1a",
   "metadata": {},
   "outputs": [
    {
     "name": "stdout",
     "output_type": "stream",
     "text": [
      "2.0\n",
      "[1.+0.j 1.+0.j 1.+0.j 1.+0.j]\n",
      "WaveFunction: [1.+0.j 1.+0.j 1.+0.j 1.+0.j]\n",
      "WaveFunction: [0.+0.j 0.+0.j 0.+0.j 1.+0.j]\n",
      "WaveFunction: [0.+0.j 1.+0.j 0.+0.j 0.+0.j]\n",
      "WaveFunction: [0.        +0.j 0.70710677+0.j 0.        +0.j 0.70710677+0.j]\n",
      "WaveFunction: [0.       +0.j 0.8944272+0.j 0.       +0.j 0.4472136+0.j]\n"
     ]
    }
   ],
   "source": [
    "from Qubitly.states import WaveFunction\n",
    "\n",
    "wf0 = WaveFunction(jnp.array([1, 1, 1, 1], dtype=jnp.complex64), 2)\n",
    "print(wf0.norm)\n",
    "print(wf0.amplitudes)\n",
    "print(wf0)\n",
    "\n",
    "\n",
    "wf1 = WaveFunction.from_string('11')\n",
    "print(wf1)\n",
    "\n",
    "wf2 = WaveFunction.from_string('01')\n",
    "print(wf2)\n",
    "\n",
    "wf3 = WaveFunction.from_superposition([wf1, wf2])\n",
    "print(wf3)\n",
    "\n",
    "wf4 = WaveFunction.from_superposition([wf1, wf2], [1, 2])\n",
    "print(wf4)"
   ]
  },
  {
   "cell_type": "markdown",
   "id": "ad929cc7-f354-4753-9ea6-01f7660ae7bf",
   "metadata": {},
   "source": [
    "**Operator**"
   ]
  },
  {
   "cell_type": "code",
   "execution_count": 3,
   "id": "8cae87fb-00d6-4979-a33d-6275fe33a43d",
   "metadata": {},
   "outputs": [
    {
     "name": "stdout",
     "output_type": "stream",
     "text": [
      "WaveFunction: [1.+0.j 0.+0.j 0.+0.j 0.+0.j]\n",
      "WaveFunction: [0.+0.j 1.+0.j 0.+0.j 0.+0.j]\n",
      "WaveFunction: [0.+0.j 0.+0.j 1.+0.j 0.+0.j]\n",
      "WaveFunction: [0.+0.j 0.+0.j 0.+0.j 1.+0.j]\n",
      "\n",
      "WaveFunction: [1.+0.j 0.+0.j 0.+0.j 1.+0.j]\n",
      "WaveFunction: [0.+0.j 1.+0.j 1.+0.j 0.+0.j]\n",
      "WaveFunction: [ 1.+0.j  0.+0.j  0.+0.j -1.+0.j]\n",
      "\n",
      "[[0.+1.j 0.+0.j]\n",
      " [0.+0.j 0.-1.j]]\n",
      "[[0.+1.j 0.+0.j]\n",
      " [0.+0.j 0.-1.j]]\n",
      "[[0.+1.j 0.+0.j]\n",
      " [0.+0.j 0.-1.j]]\n",
      "[[0.+1.j 0.+0.j]\n",
      " [0.+0.j 0.-1.j]]\n"
     ]
    }
   ],
   "source": [
    "from Qubitly.gates import *\n",
    "\n",
    "_00 = WaveFunction.from_string('00')\n",
    "_balanced = WaveFunction(amplitudes=[1, 1, 1, 1])\n",
    "_bell0 = WaveFunction(n_qubits=2, amplitudes=[1, 0, 0, 1])\n",
    "\n",
    "\n",
    "print(_00)\n",
    "print(SigmaX(0) * _00)\n",
    "print(SigmaX(1) * _00)  # What if I apply SigmaX(2)?\n",
    "print(SigmaX(1) * (SigmaX(0) * _00))\n",
    "\n",
    "print()\n",
    "\n",
    "print(_bell0)\n",
    "print(SigmaX(0) * _bell0)\n",
    "print(SigmaZ(0) * _bell0)\n",
    "\n",
    "print()\n",
    "\n",
    "print(SimpleSigmaX().apply(SimpleSigmaY()).matrix)\n",
    "print((SimpleSigmaX()*SimpleSigmaY()).matrix)\n",
    "print((SigmaX(0)*SigmaY(0)).simple_op.matrix)\n",
    "print((SigmaX(5)*SigmaY(5)).simple_op.matrix)\n",
    "with pytest.raises(AssertionError):\n",
    "    print((SigmaX(0)*SigmaY(1)).simple_op.matrix)"
   ]
  },
  {
   "cell_type": "code",
   "execution_count": 4,
   "id": "14e03d72-146c-44d6-ae08-7443805be336",
   "metadata": {},
   "outputs": [
    {
     "name": "stdout",
     "output_type": "stream",
     "text": [
      "[[ 0.+0.j  0.+0.j  1.+0.j  0.+0.j]\n",
      " [ 0.+0.j -0.+0.j  0.+0.j -1.+0.j]\n",
      " [ 1.+0.j  0.+0.j  0.+0.j  0.+0.j]\n",
      " [ 0.+0.j -1.+0.j  0.+0.j -0.+0.j]]\n",
      "WaveFunction: [0.+0.j 1.+0.j 0.+0.j 0.+0.j]\n",
      "[ 0.+0.j  0.+0.j  0.+0.j -1.+0.j]\n",
      "WaveFunction: [ 0.+0.j  0.+0.j  0.+0.j -1.+0.j]\n"
     ]
    }
   ],
   "source": [
    "O = Operator([SimpleSigmaZ(), SimpleSigmaX()], [0,1])\n",
    "print(O.simple_op.matrix)\n",
    "psi = WaveFunction.from_string('01')\n",
    "print(psi)\n",
    "print(O.simple_op.matrix @ psi.amplitudes)\n",
    "print(O * psi)\n",
    "# NOTE that the two lines above are the same since matrix = matrix1 *(kronecker) matrix0 (this depends on how the function _apply_matrix_to_two_sites() is defined); state = state1 *(kronecker) state0"
   ]
  },
  {
   "cell_type": "markdown",
   "id": "ef70fd51-3b02-4375-a51e-48c51135d42b",
   "metadata": {},
   "source": [
    "**QuantumCircuit**"
   ]
  },
  {
   "cell_type": "code",
   "execution_count": 5,
   "id": "bdd851b8-b782-4a2f-8bff-cb8b06c641f0",
   "metadata": {},
   "outputs": [],
   "source": [
    "from Qubitly.states import CompBasisMeasurement\n",
    "from Qubitly.gates import Hadamard, CNOT\n",
    "from Qubitly.circuits import QuantumCircuit, CircuitLayer, CircuitError"
   ]
  },
  {
   "cell_type": "code",
   "execution_count": 6,
   "id": "f842ef68-90ff-4d36-824e-450061f2b83d",
   "metadata": {},
   "outputs": [
    {
     "name": "stdout",
     "output_type": "stream",
     "text": [
      "WaveFunction: [1.+0.j 0.+0.j 0.+0.j 0.+0.j]\n",
      "WaveFunction: [1.+0.j 0.+0.j 0.+0.j 0.+0.j]\n",
      "WaveFunction: [1.+0.j 0.+0.j 0.+0.j 0.+0.j]\n",
      "WaveFunction: [1.+0.j 0.+0.j 0.+0.j 0.+0.j]\n"
     ]
    }
   ],
   "source": [
    "qc = QuantumCircuit(\n",
    "    CircuitLayer(Hadamard(0)),\n",
    "    CircuitLayer(CNOT(control=0, target=1)),\n",
    "    CompBasisMeasurement(\"m0\", 0),\n",
    "    CompBasisMeasurement(\"m1\", 1),\n",
    ")\n",
    "\n",
    "_00 = WaveFunction.from_string('00')\n",
    "\n",
    "key = jrand.key(5)\n",
    "_bell0, user_vars = jax.jit(qc)(_00, key)\n",
    "print(_bell0)\n",
    "\n",
    "result = jax.jit(qc)(_00, key)\n",
    "print(result.wf)\n",
    "\n",
    "_bell0_jit, user_vars_jit = qc.jit_call(_00, key)\n",
    "print(_bell0_jit)\n",
    "\n",
    "result_jit = qc.jit_call(_00, key)\n",
    "print(result.wf)"
   ]
  },
  {
   "cell_type": "code",
   "execution_count": 7,
   "id": "3274e3b8-f0e4-43cb-bfb5-9e22411e000e",
   "metadata": {},
   "outputs": [],
   "source": [
    "import pytest\n",
    "\n",
    "with pytest.raises(CircuitError):\n",
    "    qc_wrong_1 = QuantumCircuit(\n",
    "        CircuitLayer(\n",
    "            Hadamard(0),\n",
    "            Hadamard(0),\n",
    "        ),\n",
    "    )\n",
    "\n",
    "with pytest.raises(CircuitError):\n",
    "    qc_wrong_2 = QuantumCircuit(\n",
    "        CircuitLayer(\n",
    "            Hadamard(1),\n",
    "            CNOT(control=1, target=0),\n",
    "        ),\n",
    "    )\n",
    "\n",
    "with pytest.raises(CircuitError):\n",
    "    qc_wrong_3 = QuantumCircuit(\n",
    "        CircuitLayer(\n",
    "            Hadamard(0),\n",
    "            CNOT(control=1, target=1),\n",
    "        ),\n",
    "    )"
   ]
  },
  {
   "cell_type": "markdown",
   "id": "46513026-47fb-4c3b-98a9-232c3b63756c",
   "metadata": {},
   "source": [
    "**QuantumTeleportation**"
   ]
  },
  {
   "cell_type": "code",
   "execution_count": 8,
   "id": "9f0327a5-ad30-4725-a7f0-3ca98424b125",
   "metadata": {},
   "outputs": [
    {
     "name": "stdout",
     "output_type": "stream",
     "text": [
      "WaveFunction: [0.70710677+0.j 0.70710677+0.j]\n",
      "WaveFunction: [0.70710677+0.j 0.70710677+0.j]\n",
      "WaveFunction: [0.70710677+0.j 0.70710677+0.j]\n",
      "WaveFunction: [0.70710677+0.j 0.70710677+0.j]\n"
     ]
    }
   ],
   "source": [
    "import Qubitly.examples as examples\n",
    "\n",
    "_input = WaveFunction(jnp.array([1, 1], dtype=jnp.complex64))\n",
    "_input.normalize()\n",
    "print(_input)\n",
    "\n",
    "key = jrand.key(2)\n",
    "_input = examples.prepare_for_teleportation(_input)\n",
    "_output, user_vars = examples.QuantumTeleportation(_input, key)\n",
    "_output = examples.extract_teleported_qubit(_output, user_vars)\n",
    "print(_output)\n",
    "\n",
    "_output_jit, user_vars_jit = examples.QuantumTeleportation.jit_call(_input, key)\n",
    "_output_jit = examples.extract_teleported_qubit(_output_jit, user_vars_jit)\n",
    "print(_output_jit)\n",
    "\n",
    "QT_jit = jax.jit(examples.QuantumTeleportation)\n",
    "_output_jit, user_vars_jit = QT_jit(_input, key)\n",
    "_output_jit = examples.extract_teleported_qubit(_output_jit, user_vars_jit)\n",
    "print(_output_jit)\n",
    "\n",
    "# NOTE that the jitted version is 3 o. o. m. faster!"
   ]
  },
  {
   "cell_type": "code",
   "execution_count": null,
   "id": "5dd24f7f-f781-4ae0-ac70-0338d5aeaf07",
   "metadata": {},
   "outputs": [],
   "source": []
  },
  {
   "cell_type": "markdown",
   "id": "412da089-eebc-483c-b72f-45720a33c0c7",
   "metadata": {},
   "source": [
    "**How many times is the initializer of WaveFunction called inside a QuantumCircuit?**\n",
    "Add a debug print to the initializer of WaveFunction (print(...) or jax.debug.print(...)) to verify the output of the following cells."
   ]
  },
  {
   "cell_type": "code",
   "execution_count": null,
   "id": "41f5176f-7dcf-4f49-9fce-c479c2f09655",
   "metadata": {},
   "outputs": [],
   "source": [
    "_00 = WaveFunction.from_string('00')\n",
    "qc = QuantumCircuit(\n",
    "    Hadamard(0)\n",
    ")\n",
    "qc_jit = jax.jit(qc)"
   ]
  },
  {
   "cell_type": "code",
   "execution_count": null,
   "id": "3a5a8091-a7da-4175-b48a-cd14a8e582eb",
   "metadata": {},
   "outputs": [],
   "source": [
    "result = qc(_00)\n",
    "# One for the non-jitted version, as expected"
   ]
  },
  {
   "cell_type": "code",
   "execution_count": null,
   "id": "9a835db0-8b21-47ce-a0d2-02e17e8e3cca",
   "metadata": {},
   "outputs": [],
   "source": [
    "result = qc_jit(_00)\n",
    "# Three for the jitted version (copy, build and bind result). In fact, if the circuit performed the same operation but didn't return a WaveFunction, the initializer would ber called only twice.\n",
    "# NOTE I'm not sure that `binding` is the right word"
   ]
  },
  {
   "cell_type": "code",
   "execution_count": null,
   "id": "9b68caf2-e396-48ae-aa62-424c77ab931d",
   "metadata": {},
   "outputs": [],
   "source": [
    "result = qc_jit(_00)\n",
    "# Expect only one for the jitted version running the second time (bind result)"
   ]
  },
  {
   "cell_type": "code",
   "execution_count": null,
   "id": "3e35a51b-0eac-46f9-8cb3-e68477521f5c",
   "metadata": {},
   "outputs": [],
   "source": [
    "# For more complex circuits: \n",
    "# - non-jitted version: One call for every layer\n",
    "# - jitted version: One might expect two calls for every layer and one final call for binding... but actually it's optimized to avoid copying at intermediate steps, so one for copying at the beginning, one for each gate, one for binding at the end.\n",
    "qc = QuantumCircuit(\n",
    "    Hadamard(0),\n",
    "    Hadamard(1),\n",
    "    CNOT(control=0, target=1)\n",
    ")\n",
    "\n",
    "qc_jit = jax.jit(qc)"
   ]
  },
  {
   "cell_type": "code",
   "execution_count": null,
   "id": "e37ba157-13da-4924-9210-d54308a4e27d",
   "metadata": {},
   "outputs": [],
   "source": [
    "result = qc(_00) # Three"
   ]
  },
  {
   "cell_type": "code",
   "execution_count": null,
   "id": "09374b6c-335a-403c-b7e7-ff6ad0cab3e6",
   "metadata": {},
   "outputs": [],
   "source": [
    "result = qc_jit(_00) # Five"
   ]
  },
  {
   "cell_type": "code",
   "execution_count": null,
   "id": "f9666e66-53bd-41b8-86df-2ef853d644a3",
   "metadata": {},
   "outputs": [],
   "source": [
    "result = qc_jit(_00) # One"
   ]
  },
  {
   "cell_type": "code",
   "execution_count": null,
   "id": "6284a392-c27d-48d3-be74-ea8b249078ee",
   "metadata": {},
   "outputs": [],
   "source": [
    "qc = QuantumCircuit(\n",
    "    Hadamard(0),\n",
    "    Hadamard(1),\n",
    "    CNOT(control=0, target=1),\n",
    "    CZ(control=1, target=0),\n",
    "    SigmaX(1),\n",
    ")\n",
    "\n",
    "qc_jit = jax.jit(qc)"
   ]
  },
  {
   "cell_type": "code",
   "execution_count": null,
   "id": "86044a4c-5030-47f1-9c79-0f5cc5c31200",
   "metadata": {},
   "outputs": [],
   "source": [
    "result = qc(_00) # Five"
   ]
  },
  {
   "cell_type": "code",
   "execution_count": null,
   "id": "456b3e99-1aa9-4e9d-b9c8-46f2f8a67b9b",
   "metadata": {},
   "outputs": [],
   "source": [
    "result = qc_jit(_00) # Seven"
   ]
  },
  {
   "cell_type": "code",
   "execution_count": null,
   "id": "762309a1-532e-4b9d-a0c2-3201cfe73b53",
   "metadata": {},
   "outputs": [],
   "source": [
    "result = qc_jit(_00) # One"
   ]
  },
  {
   "cell_type": "markdown",
   "id": "42aa0848-dede-463d-b998-834e8d1092f1",
   "metadata": {},
   "source": [
    "At the end of the day, the current implementation of QuantumCircuit - each layer returning a WaveFunction object rather than an array - leads to an overhead linear with the number of circuit gates."
   ]
  },
  {
   "cell_type": "code",
   "execution_count": null,
   "id": "4f4eeed6-cfca-4d62-be80-6c2d5f734495",
   "metadata": {},
   "outputs": [],
   "source": []
  },
  {
   "cell_type": "markdown",
   "id": "11258ade-cedb-4751-bc74-60f4f6e67039",
   "metadata": {},
   "source": [
    "**Do jitted functions allow raising exceptions in WaveFunction.__init__()?**"
   ]
  },
  {
   "cell_type": "code",
   "execution_count": 9,
   "id": "1e3bf252-86b8-45a6-8a10-48e2060bcda8",
   "metadata": {},
   "outputs": [],
   "source": [
    "# Function that creates a new WaveFunction object with wrong number of qubits\n",
    "def try_and_change_n_qubits(wf: WaveFunction) -> WaveFunction:\n",
    "    wrong_n = wf.n_qubits + 1\n",
    "    new_wf = WaveFunction(wf.amplitudes, wrong_n)\n",
    "    return new_wf\n",
    "\n",
    "try_and_change_n_qubits_jit = jax.jit(try_and_change_n_qubits)"
   ]
  },
  {
   "cell_type": "code",
   "execution_count": 10,
   "id": "2fd6c8ce-6b58-431d-8260-805e7a2d7fd7",
   "metadata": {},
   "outputs": [],
   "source": [
    "wf = WaveFunction.from_string(\"00\")\n",
    "\n",
    "with pytest.raises(ValueError):\n",
    "    new_wf = try_and_change_n_qubits(wf)\n",
    "\n",
    "with pytest.raises(ValueError):\n",
    "    new_wf = try_and_change_n_qubits_jit(wf)"
   ]
  },
  {
   "cell_type": "markdown",
   "id": "db6d0a9b-a03a-420a-8125-7cb1f4b8da96",
   "metadata": {},
   "source": [
    "The jitted version also raises, but note that the problem inside the function does not depend on the input it receives, so it never gets jitted succesfully.\n",
    "We try now with a function that isn't inherently wrong: we jit compile it and then we check whether a wrong input triggers the exception."
   ]
  },
  {
   "cell_type": "code",
   "execution_count": 11,
   "id": "12c93a37-e212-47bd-ba78-84006dfd6868",
   "metadata": {},
   "outputs": [],
   "source": [
    "def assert_2_qubit_wf(wf: WaveFunction):\n",
    "    assert wf.n_qubits == 2\n",
    "    return\n",
    "\n",
    "assert_2_qubit_wf_jit = jax.jit(assert_2_qubit_wf)"
   ]
  },
  {
   "cell_type": "code",
   "execution_count": 12,
   "id": "09cd4f91-fcea-46f6-abf1-744ac182d71d",
   "metadata": {},
   "outputs": [],
   "source": [
    "wf_1 = WaveFunction.from_string(\"0\")\n",
    "wf_2 = WaveFunction.from_string(\"00\")\n",
    "\n",
    "with pytest.raises(AssertionError):\n",
    "    assert_2_qubit_wf(wf_1)\n",
    "\n",
    "with pytest.raises(AssertionError):\n",
    "    assert_2_qubit_wf_jit(wf_1)\n",
    "# This raises too, to no surprise\n",
    "\n",
    "assert_2_qubit_wf_jit(wf_2)\n",
    "# This works fine as expected\n",
    "\n",
    "with pytest.raises(AssertionError):\n",
    "    assert_2_qubit_wf_jit(wf_1)"
   ]
  },
  {
   "cell_type": "markdown",
   "id": "962e6c6a-e96f-4064-8404-8d2f986d3ebd",
   "metadata": {},
   "source": [
    "Also in the last case the exception is raised: calling the function on an input of different shape triggers recompilation. This is a stupid example!"
   ]
  },
  {
   "cell_type": "code",
   "execution_count": 13,
   "id": "a008110c-d16a-49af-bca0-5a2dd06f38a7",
   "metadata": {},
   "outputs": [],
   "source": [
    "def assert_is_00(wf: WaveFunction):\n",
    "    def raise_value_error(_):\n",
    "        raise ValueError()\n",
    "        return\n",
    "    jax.lax.cond(jnp.allclose(wf.amplitudes, jnp.array([1, 0, 0, 0], dtype=jnp.complex64)), lambda _: _, raise_value_error, operand=None)\n",
    "    return\n",
    "\n",
    "assert_is_00_jit = jax.jit(assert_is_00)"
   ]
  },
  {
   "cell_type": "code",
   "execution_count": 14,
   "id": "c7b53a14-aee6-46dd-b9c4-4b03a235cce4",
   "metadata": {},
   "outputs": [],
   "source": [
    "_00 = WaveFunction.from_string(\"00\")\n",
    "_11 = WaveFunction.from_string(\"11\")\n",
    "\n",
    "with pytest.raises(ValueError):\n",
    "    assert_is_00(_00)\n",
    "\n",
    "with pytest.raises(ValueError):\n",
    "    assert_is_00_jit(_00)"
   ]
  },
  {
   "cell_type": "markdown",
   "id": "0f80329c-494a-42f6-870e-34dee0ec5471",
   "metadata": {},
   "source": [
    "Jax follows all paths in jax.lax control flows, hence the exception is always raised, even by the non-jitted function."
   ]
  },
  {
   "cell_type": "code",
   "execution_count": null,
   "id": "d3f12162-2687-4a5d-b1bc-166937f989d5",
   "metadata": {},
   "outputs": [],
   "source": []
  }
 ],
 "metadata": {
  "kernelspec": {
   "display_name": "Python 3 (ipykernel)",
   "language": "python",
   "name": "python3"
  },
  "language_info": {
   "codemirror_mode": {
    "name": "ipython",
    "version": 3
   },
   "file_extension": ".py",
   "mimetype": "text/x-python",
   "name": "python",
   "nbconvert_exporter": "python",
   "pygments_lexer": "ipython3",
   "version": "3.10.13"
  }
 },
 "nbformat": 4,
 "nbformat_minor": 5
}
